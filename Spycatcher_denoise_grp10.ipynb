{
  "nbformat": 4,
  "nbformat_minor": 0,
  "metadata": {
    "colab": {
      "name": "Spycatcher-denoise-grp10.ipynb",
      "provenance": [],
      "collapsed_sections": [],
      "toc_visible": true,
      "authorship_tag": "ABX9TyMEEnThs5fRYykZggNyd/1e",
      "include_colab_link": true
    },
    "kernelspec": {
      "name": "python3",
      "display_name": "Python 3"
    },
    "language_info": {
      "name": "python"
    },
    "accelerator": "GPU"
  },
  "cells": [
    {
      "cell_type": "markdown",
      "metadata": {
        "id": "view-in-github",
        "colab_type": "text"
      },
      "source": [
        "<a href=\"https://colab.research.google.com/github/salimkt/Speech-denoise-Autoencoder/blob/master/Spycatcher_denoise_grp10.ipynb\" target=\"_parent\"><img src=\"https://colab.research.google.com/assets/colab-badge.svg\" alt=\"Open In Colab\"/></a>"
      ]
    },
    {
      "cell_type": "markdown",
      "source": [
        "# Install Required Libraries"
      ],
      "metadata": {
        "id": "qegeKbVD-WEA"
      }
    },
    {
      "cell_type": "code",
      "execution_count": null,
      "metadata": {
        "id": "G8JvYsCY97AK"
      },
      "outputs": [],
      "source": [
        "colab_requirements = [\n",
        "    \"pip install librosa\",\n",
        "    \"pip install noisereduce\",\n",
        "    \"pip install soundfile\",\n",
        "\n",
        "]\n",
        "\n",
        "import sys, subprocess\n",
        "\n",
        "def run_subprocess_command(cmd):\n",
        "    # run the command\n",
        "    process = subprocess.Popen(cmd.split(), stdout=subprocess.PIPE)\n",
        "    # print the output\n",
        "    for line in process.stdout:\n",
        "        print(line.decode().strip())\n",
        "\n",
        "IN_COLAB = \"google.colab\" in sys.modules\n",
        "if IN_COLAB:\n",
        "    for i in colab_requirements:\n",
        "        run_subprocess_command(i)"
      ]
    },
    {
      "cell_type": "markdown",
      "source": [
        "# Denoising algorithm"
      ],
      "metadata": {
        "id": "uie4jgEE_Fv1"
      }
    },
    {
      "cell_type": "code",
      "source": [
        "import IPython\n",
        "from scipy.io import wavfile\n",
        "import noisereduce as nr\n",
        "import soundfile as sf\n",
        "from noisereduce.generate_noise import band_limited_noise\n",
        "import matplotlib.pyplot as plt\n",
        "import urllib.request\n",
        "import numpy as np\n",
        "import io\n",
        "%matplotlib inline\n",
        "\n",
        "# Voice Input\n",
        "\n",
        "url = \"https://raw.githubusercontent.com/timsainb/noisereduce/master/assets/fish.wav\"\n",
        "response = urllib.request.urlopen(url)\n",
        "data, rate = sf.read(io.BytesIO(response.read()))\n",
        "data = data\n",
        "\n",
        "#Display input\n",
        "\n",
        "IPython.display.Audio(data=data, rate=rate)"
      ],
      "metadata": {
        "id": "gJJ_Xr-t_JPp"
      },
      "execution_count": null,
      "outputs": []
    },
    {
      "cell_type": "markdown",
      "source": [
        "# Audio Spectrum"
      ],
      "metadata": {
        "id": "z92__R6FB-pr"
      }
    },
    {
      "cell_type": "code",
      "source": [
        "fig, ax = plt.subplots(figsize=(20,3))\n",
        "ax.plot(data)"
      ],
      "metadata": {
        "id": "Fc78-OO3B5Fj"
      },
      "execution_count": null,
      "outputs": []
    },
    {
      "cell_type": "markdown",
      "source": [
        "# Noise Mixing"
      ],
      "metadata": {
        "id": "OHPO98cGDBfE"
      }
    },
    {
      "cell_type": "code",
      "source": [
        "noise_len = 2 # seconds\n",
        "noise = band_limited_noise(min_freq=2000, max_freq = 12000, samples=len(data), samplerate=rate)*10\n",
        "noise_clip = noise[:rate*noise_len]\n",
        "audio_clip_band_limited = data+noise\n",
        "\n",
        "# Omit Noise Mixed Audio\n",
        "\n",
        "IPython.display.Audio(data=audio_clip_band_limited, rate=rate)"
      ],
      "metadata": {
        "id": "0xONDASUCRGb"
      },
      "execution_count": null,
      "outputs": []
    },
    {
      "cell_type": "markdown",
      "source": [
        "# Noise Mixed Voice Spectrum"
      ],
      "metadata": {
        "id": "98igymdYFW53"
      }
    },
    {
      "cell_type": "code",
      "source": [
        "fig, ax = plt.subplots(figsize=(20,3))\n",
        "ax.plot(audio_clip_band_limited)"
      ],
      "metadata": {
        "id": "Bde-2-bTFRtN"
      },
      "execution_count": null,
      "outputs": []
    },
    {
      "cell_type": "markdown",
      "source": [
        "# Noise Reduction"
      ],
      "metadata": {
        "id": "EeK181POEvi7"
      }
    },
    {
      "cell_type": "code",
      "source": [
        "reduced_noise = nr.reduce_noise(y = audio_clip_band_limited, sr=rate, n_std_thresh_stationary=1.5,stationary=True)\n",
        "\n",
        "# Omit Denoised Audio\n",
        "\n",
        "IPython.display.Audio(data=reduced_noise, rate=rate)"
      ],
      "metadata": {
        "id": "3ycdvL_MEAb1"
      },
      "execution_count": null,
      "outputs": []
    }
  ]
}